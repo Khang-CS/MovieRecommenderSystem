{
 "cells": [
  {
   "cell_type": "markdown",
   "metadata": {},
   "source": [
    "<h3>IMPORT PANDAS LIBRARY AND READ DATA</h3>"
   ]
  },
  {
   "cell_type": "code",
   "execution_count": 1,
   "metadata": {},
   "outputs": [],
   "source": [
    "# Import Pandas\n",
    "import pandas as pd\n",
    "\n",
    "# Load Movies Metadata\n",
    "metadata = pd.read_csv('movies_metadata.csv',low_memory=False)\n",
    "\n"
   ]
  },
  {
   "cell_type": "code",
   "execution_count": 2,
   "metadata": {},
   "outputs": [
    {
     "data": {
      "text/html": [
       "<div>\n",
       "<style scoped>\n",
       "    .dataframe tbody tr th:only-of-type {\n",
       "        vertical-align: middle;\n",
       "    }\n",
       "\n",
       "    .dataframe tbody tr th {\n",
       "        vertical-align: top;\n",
       "    }\n",
       "\n",
       "    .dataframe thead th {\n",
       "        text-align: right;\n",
       "    }\n",
       "</style>\n",
       "<table border=\"1\" class=\"dataframe\">\n",
       "  <thead>\n",
       "    <tr style=\"text-align: right;\">\n",
       "      <th></th>\n",
       "      <th>adult</th>\n",
       "      <th>belongs_to_collection</th>\n",
       "      <th>budget</th>\n",
       "      <th>genres</th>\n",
       "      <th>homepage</th>\n",
       "      <th>id</th>\n",
       "      <th>imdb_id</th>\n",
       "      <th>original_language</th>\n",
       "      <th>original_title</th>\n",
       "      <th>overview</th>\n",
       "      <th>...</th>\n",
       "      <th>release_date</th>\n",
       "      <th>revenue</th>\n",
       "      <th>runtime</th>\n",
       "      <th>spoken_languages</th>\n",
       "      <th>status</th>\n",
       "      <th>tagline</th>\n",
       "      <th>title</th>\n",
       "      <th>video</th>\n",
       "      <th>vote_average</th>\n",
       "      <th>vote_count</th>\n",
       "    </tr>\n",
       "  </thead>\n",
       "  <tbody>\n",
       "    <tr>\n",
       "      <th>0</th>\n",
       "      <td>False</td>\n",
       "      <td>{'id': 10194, 'name': 'Toy Story Collection', ...</td>\n",
       "      <td>30000000</td>\n",
       "      <td>[{'id': 16, 'name': 'Animation'}, {'id': 35, '...</td>\n",
       "      <td>http://toystory.disney.com/toy-story</td>\n",
       "      <td>862</td>\n",
       "      <td>tt0114709</td>\n",
       "      <td>en</td>\n",
       "      <td>Toy Story</td>\n",
       "      <td>Led by Woody, Andy's toys live happily in his ...</td>\n",
       "      <td>...</td>\n",
       "      <td>1995-10-30</td>\n",
       "      <td>373554033.0</td>\n",
       "      <td>81.0</td>\n",
       "      <td>[{'iso_639_1': 'en', 'name': 'English'}]</td>\n",
       "      <td>Released</td>\n",
       "      <td>NaN</td>\n",
       "      <td>Toy Story</td>\n",
       "      <td>False</td>\n",
       "      <td>7.7</td>\n",
       "      <td>5415.0</td>\n",
       "    </tr>\n",
       "    <tr>\n",
       "      <th>1</th>\n",
       "      <td>False</td>\n",
       "      <td>NaN</td>\n",
       "      <td>65000000</td>\n",
       "      <td>[{'id': 12, 'name': 'Adventure'}, {'id': 14, '...</td>\n",
       "      <td>NaN</td>\n",
       "      <td>8844</td>\n",
       "      <td>tt0113497</td>\n",
       "      <td>en</td>\n",
       "      <td>Jumanji</td>\n",
       "      <td>When siblings Judy and Peter discover an encha...</td>\n",
       "      <td>...</td>\n",
       "      <td>1995-12-15</td>\n",
       "      <td>262797249.0</td>\n",
       "      <td>104.0</td>\n",
       "      <td>[{'iso_639_1': 'en', 'name': 'English'}, {'iso...</td>\n",
       "      <td>Released</td>\n",
       "      <td>Roll the dice and unleash the excitement!</td>\n",
       "      <td>Jumanji</td>\n",
       "      <td>False</td>\n",
       "      <td>6.9</td>\n",
       "      <td>2413.0</td>\n",
       "    </tr>\n",
       "    <tr>\n",
       "      <th>2</th>\n",
       "      <td>False</td>\n",
       "      <td>{'id': 119050, 'name': 'Grumpy Old Men Collect...</td>\n",
       "      <td>0</td>\n",
       "      <td>[{'id': 10749, 'name': 'Romance'}, {'id': 35, ...</td>\n",
       "      <td>NaN</td>\n",
       "      <td>15602</td>\n",
       "      <td>tt0113228</td>\n",
       "      <td>en</td>\n",
       "      <td>Grumpier Old Men</td>\n",
       "      <td>A family wedding reignites the ancient feud be...</td>\n",
       "      <td>...</td>\n",
       "      <td>1995-12-22</td>\n",
       "      <td>0.0</td>\n",
       "      <td>101.0</td>\n",
       "      <td>[{'iso_639_1': 'en', 'name': 'English'}]</td>\n",
       "      <td>Released</td>\n",
       "      <td>Still Yelling. Still Fighting. Still Ready for...</td>\n",
       "      <td>Grumpier Old Men</td>\n",
       "      <td>False</td>\n",
       "      <td>6.5</td>\n",
       "      <td>92.0</td>\n",
       "    </tr>\n",
       "  </tbody>\n",
       "</table>\n",
       "<p>3 rows × 24 columns</p>\n",
       "</div>"
      ],
      "text/plain": [
       "   adult                              belongs_to_collection    budget  \\\n",
       "0  False  {'id': 10194, 'name': 'Toy Story Collection', ...  30000000   \n",
       "1  False                                                NaN  65000000   \n",
       "2  False  {'id': 119050, 'name': 'Grumpy Old Men Collect...         0   \n",
       "\n",
       "                                              genres  \\\n",
       "0  [{'id': 16, 'name': 'Animation'}, {'id': 35, '...   \n",
       "1  [{'id': 12, 'name': 'Adventure'}, {'id': 14, '...   \n",
       "2  [{'id': 10749, 'name': 'Romance'}, {'id': 35, ...   \n",
       "\n",
       "                               homepage     id    imdb_id original_language  \\\n",
       "0  http://toystory.disney.com/toy-story    862  tt0114709                en   \n",
       "1                                   NaN   8844  tt0113497                en   \n",
       "2                                   NaN  15602  tt0113228                en   \n",
       "\n",
       "     original_title                                           overview  ...  \\\n",
       "0         Toy Story  Led by Woody, Andy's toys live happily in his ...  ...   \n",
       "1           Jumanji  When siblings Judy and Peter discover an encha...  ...   \n",
       "2  Grumpier Old Men  A family wedding reignites the ancient feud be...  ...   \n",
       "\n",
       "  release_date      revenue runtime  \\\n",
       "0   1995-10-30  373554033.0    81.0   \n",
       "1   1995-12-15  262797249.0   104.0   \n",
       "2   1995-12-22          0.0   101.0   \n",
       "\n",
       "                                    spoken_languages    status  \\\n",
       "0           [{'iso_639_1': 'en', 'name': 'English'}]  Released   \n",
       "1  [{'iso_639_1': 'en', 'name': 'English'}, {'iso...  Released   \n",
       "2           [{'iso_639_1': 'en', 'name': 'English'}]  Released   \n",
       "\n",
       "                                             tagline             title  video  \\\n",
       "0                                                NaN         Toy Story  False   \n",
       "1          Roll the dice and unleash the excitement!           Jumanji  False   \n",
       "2  Still Yelling. Still Fighting. Still Ready for...  Grumpier Old Men  False   \n",
       "\n",
       "  vote_average vote_count  \n",
       "0          7.7     5415.0  \n",
       "1          6.9     2413.0  \n",
       "2          6.5       92.0  \n",
       "\n",
       "[3 rows x 24 columns]"
      ]
     },
     "execution_count": 2,
     "metadata": {},
     "output_type": "execute_result"
    }
   ],
   "source": [
    "# Print the first three rows\n",
    "\n",
    "metadata.head(3)"
   ]
  },
  {
   "cell_type": "markdown",
   "metadata": {},
   "source": [
    "<h3> SIMPLE RECOMMENDER </h3>\n",
    "\n",
    "Simple recommenders are basic systems that recommend the top items based on a certain metric or score. This is a simplified clone of IMDB Top 250 Movies using metadata collected from IMDB\n",
    "\n",
    "**The following are the steps involved:** \n",
    "<ul>\n",
    "    <li>Decide on the metric or scope to rate movies on.</li>\n",
    "    <li>Calculate the score for every movie.</li>\n",
    "    <li>Sort the movies based on the score and output the top results.</li>\n",
    "</ul>"
   ]
  },
  {
   "cell_type": "markdown",
   "metadata": {},
   "source": [
    "Since we are trying to build a clone of IMDB's Top 250, let's use its weighted rating formula as a metric/score. Mathematically, it is presented as follows:\n",
    "\\begin{equation} \n",
    "\\text Weighted Rating (\\bf WR) = \\left({{\\bf v} \\over {\\bf v} + {\\bf m}} \\cdot R\\right) + \\left({{\\bf m} \\over {\\bf v} + {\\bf m}} \\cdot C\\right) \n",
    "\\end{equation}\n",
    "<ul>\n",
    "    <li> <b>v</b> is the number of votes for the movie.</li>\n",
    "    <li> <b>m</b> is minimum votes required to be listed in the chart.</li>\n",
    "    <li> <b>R</b> is the average rating of the movie.</li>\n",
    "    <li> <b>C</b> is the mean vote across the whole report.</li>\n",
    "</ul>"
   ]
  },
  {
   "cell_type": "code",
   "execution_count": 3,
   "metadata": {},
   "outputs": [
    {
     "name": "stdout",
     "output_type": "stream",
     "text": [
      "5.618207215134185\n"
     ]
    }
   ],
   "source": [
    "# Calculate mean of vote average column\n",
    "C = metadata['vote_average'].mean()\n",
    "print(C)"
   ]
  },
  {
   "cell_type": "code",
   "execution_count": 4,
   "metadata": {},
   "outputs": [
    {
     "name": "stdout",
     "output_type": "stream",
     "text": [
      "160.0\n"
     ]
    }
   ],
   "source": [
    "# Calculate the minimum number of votes required to be in the chart, m\n",
    "\n",
    "m = metadata['vote_count'].quantile(0.9)\n",
    "print(m)"
   ]
  },
  {
   "cell_type": "markdown",
   "metadata": {},
   "source": [
    "<b>Explanation: </b>\n",
    "<ul>\n",
    "    <li>The <b>quantile()</b> function is used to calculate the 90th percentile of the <b>vote_count</b> column in the <b>metadata</b> data frame.\n",
    "    <li>This means that 90% of the movies have a vote count lower than the value return turned by this function.\n",
    "</ul>"
   ]
  },
  {
   "cell_type": "code",
   "execution_count": 5,
   "metadata": {},
   "outputs": [
    {
     "data": {
      "text/plain": [
       "(4555, 24)"
      ]
     },
     "execution_count": 5,
     "metadata": {},
     "output_type": "execute_result"
    }
   ],
   "source": [
    "# Filter out ll qualified movies into a new DataFrame\n",
    "q_movies = metadata.copy().loc[metadata['vote_count']>=m]\n",
    "\n",
    "# Show dimension of q_movies\n",
    "q_movies.shape"
   ]
  },
  {
   "cell_type": "code",
   "execution_count": 6,
   "metadata": {},
   "outputs": [],
   "source": [
    "# Define Function that computes the weighted rating of each movie\n",
    "\n",
    "def weighted_rating(x, m=m, C=C):\n",
    "    v = x['vote_count'] # Number of votes for the movie\n",
    "    R = x['vote_average'] # The average rating of the movie\n",
    "    # Calculate based on the IMDB formula\n",
    "    return (v/(v+m)*R) + (m/(m+v)*C)"
   ]
  },
  {
   "cell_type": "code",
   "execution_count": 7,
   "metadata": {},
   "outputs": [],
   "source": [
    "# Define a new feature 'score' and calculate its value with 'weighted_rating'\n",
    "\n",
    "q_movies['score'] = q_movies.apply(weighted_rating,axis = 1)"
   ]
  },
  {
   "cell_type": "code",
   "execution_count": 8,
   "metadata": {},
   "outputs": [
    {
     "data": {
      "text/html": [
       "<div>\n",
       "<style scoped>\n",
       "    .dataframe tbody tr th:only-of-type {\n",
       "        vertical-align: middle;\n",
       "    }\n",
       "\n",
       "    .dataframe tbody tr th {\n",
       "        vertical-align: top;\n",
       "    }\n",
       "\n",
       "    .dataframe thead th {\n",
       "        text-align: right;\n",
       "    }\n",
       "</style>\n",
       "<table border=\"1\" class=\"dataframe\">\n",
       "  <thead>\n",
       "    <tr style=\"text-align: right;\">\n",
       "      <th></th>\n",
       "      <th>title</th>\n",
       "      <th>vote_count</th>\n",
       "      <th>vote_average</th>\n",
       "      <th>score</th>\n",
       "    </tr>\n",
       "  </thead>\n",
       "  <tbody>\n",
       "    <tr>\n",
       "      <th>314</th>\n",
       "      <td>The Shawshank Redemption</td>\n",
       "      <td>8358.0</td>\n",
       "      <td>8.5</td>\n",
       "      <td>8.445869</td>\n",
       "    </tr>\n",
       "    <tr>\n",
       "      <th>834</th>\n",
       "      <td>The Godfather</td>\n",
       "      <td>6024.0</td>\n",
       "      <td>8.5</td>\n",
       "      <td>8.425439</td>\n",
       "    </tr>\n",
       "    <tr>\n",
       "      <th>10309</th>\n",
       "      <td>Dilwale Dulhania Le Jayenge</td>\n",
       "      <td>661.0</td>\n",
       "      <td>9.1</td>\n",
       "      <td>8.421453</td>\n",
       "    </tr>\n",
       "    <tr>\n",
       "      <th>12481</th>\n",
       "      <td>The Dark Knight</td>\n",
       "      <td>12269.0</td>\n",
       "      <td>8.3</td>\n",
       "      <td>8.265477</td>\n",
       "    </tr>\n",
       "    <tr>\n",
       "      <th>2843</th>\n",
       "      <td>Fight Club</td>\n",
       "      <td>9678.0</td>\n",
       "      <td>8.3</td>\n",
       "      <td>8.256385</td>\n",
       "    </tr>\n",
       "    <tr>\n",
       "      <th>292</th>\n",
       "      <td>Pulp Fiction</td>\n",
       "      <td>8670.0</td>\n",
       "      <td>8.3</td>\n",
       "      <td>8.251406</td>\n",
       "    </tr>\n",
       "    <tr>\n",
       "      <th>522</th>\n",
       "      <td>Schindler's List</td>\n",
       "      <td>4436.0</td>\n",
       "      <td>8.3</td>\n",
       "      <td>8.206639</td>\n",
       "    </tr>\n",
       "    <tr>\n",
       "      <th>23673</th>\n",
       "      <td>Whiplash</td>\n",
       "      <td>4376.0</td>\n",
       "      <td>8.3</td>\n",
       "      <td>8.205404</td>\n",
       "    </tr>\n",
       "    <tr>\n",
       "      <th>5481</th>\n",
       "      <td>Spirited Away</td>\n",
       "      <td>3968.0</td>\n",
       "      <td>8.3</td>\n",
       "      <td>8.196055</td>\n",
       "    </tr>\n",
       "    <tr>\n",
       "      <th>2211</th>\n",
       "      <td>Life Is Beautiful</td>\n",
       "      <td>3643.0</td>\n",
       "      <td>8.3</td>\n",
       "      <td>8.187171</td>\n",
       "    </tr>\n",
       "    <tr>\n",
       "      <th>1178</th>\n",
       "      <td>The Godfather: Part II</td>\n",
       "      <td>3418.0</td>\n",
       "      <td>8.3</td>\n",
       "      <td>8.180076</td>\n",
       "    </tr>\n",
       "    <tr>\n",
       "      <th>1152</th>\n",
       "      <td>One Flew Over the Cuckoo's Nest</td>\n",
       "      <td>3001.0</td>\n",
       "      <td>8.3</td>\n",
       "      <td>8.164256</td>\n",
       "    </tr>\n",
       "    <tr>\n",
       "      <th>351</th>\n",
       "      <td>Forrest Gump</td>\n",
       "      <td>8147.0</td>\n",
       "      <td>8.2</td>\n",
       "      <td>8.150272</td>\n",
       "    </tr>\n",
       "    <tr>\n",
       "      <th>1154</th>\n",
       "      <td>The Empire Strikes Back</td>\n",
       "      <td>5998.0</td>\n",
       "      <td>8.2</td>\n",
       "      <td>8.132919</td>\n",
       "    </tr>\n",
       "    <tr>\n",
       "      <th>1176</th>\n",
       "      <td>Psycho</td>\n",
       "      <td>2405.0</td>\n",
       "      <td>8.3</td>\n",
       "      <td>8.132715</td>\n",
       "    </tr>\n",
       "    <tr>\n",
       "      <th>18465</th>\n",
       "      <td>The Intouchables</td>\n",
       "      <td>5410.0</td>\n",
       "      <td>8.2</td>\n",
       "      <td>8.125837</td>\n",
       "    </tr>\n",
       "    <tr>\n",
       "      <th>40251</th>\n",
       "      <td>Your Name.</td>\n",
       "      <td>1030.0</td>\n",
       "      <td>8.5</td>\n",
       "      <td>8.112532</td>\n",
       "    </tr>\n",
       "    <tr>\n",
       "      <th>289</th>\n",
       "      <td>Leon: The Professional</td>\n",
       "      <td>4293.0</td>\n",
       "      <td>8.2</td>\n",
       "      <td>8.107234</td>\n",
       "    </tr>\n",
       "    <tr>\n",
       "      <th>3030</th>\n",
       "      <td>The Green Mile</td>\n",
       "      <td>4166.0</td>\n",
       "      <td>8.2</td>\n",
       "      <td>8.104511</td>\n",
       "    </tr>\n",
       "    <tr>\n",
       "      <th>1170</th>\n",
       "      <td>GoodFellas</td>\n",
       "      <td>3211.0</td>\n",
       "      <td>8.2</td>\n",
       "      <td>8.077459</td>\n",
       "    </tr>\n",
       "  </tbody>\n",
       "</table>\n",
       "</div>"
      ],
      "text/plain": [
       "                                 title  vote_count  vote_average     score\n",
       "314           The Shawshank Redemption      8358.0           8.5  8.445869\n",
       "834                      The Godfather      6024.0           8.5  8.425439\n",
       "10309      Dilwale Dulhania Le Jayenge       661.0           9.1  8.421453\n",
       "12481                  The Dark Knight     12269.0           8.3  8.265477\n",
       "2843                        Fight Club      9678.0           8.3  8.256385\n",
       "292                       Pulp Fiction      8670.0           8.3  8.251406\n",
       "522                   Schindler's List      4436.0           8.3  8.206639\n",
       "23673                         Whiplash      4376.0           8.3  8.205404\n",
       "5481                     Spirited Away      3968.0           8.3  8.196055\n",
       "2211                 Life Is Beautiful      3643.0           8.3  8.187171\n",
       "1178            The Godfather: Part II      3418.0           8.3  8.180076\n",
       "1152   One Flew Over the Cuckoo's Nest      3001.0           8.3  8.164256\n",
       "351                       Forrest Gump      8147.0           8.2  8.150272\n",
       "1154           The Empire Strikes Back      5998.0           8.2  8.132919\n",
       "1176                            Psycho      2405.0           8.3  8.132715\n",
       "18465                 The Intouchables      5410.0           8.2  8.125837\n",
       "40251                       Your Name.      1030.0           8.5  8.112532\n",
       "289             Leon: The Professional      4293.0           8.2  8.107234\n",
       "3030                    The Green Mile      4166.0           8.2  8.104511\n",
       "1170                        GoodFellas      3211.0           8.2  8.077459"
      ]
     },
     "execution_count": 8,
     "metadata": {},
     "output_type": "execute_result"
    }
   ],
   "source": [
    "# Sort the movies based on score calculated above\n",
    "q_movies = q_movies.sort_values('score', ascending = False)\n",
    "\n",
    "# Print the top 20 movies\n",
    "q_movies[['title','vote_count','vote_average','score']].head(20)"
   ]
  },
  {
   "cell_type": "markdown",
   "metadata": {},
   "source": [
    "**CONCLUSION :**\n",
    "According to the output above, we can infer that a simple recommender did a great job. There are some popular movies that we love and that what proves the recommender make sense !"
   ]
  },
  {
   "cell_type": "markdown",
   "metadata": {},
   "source": [
    "<h3> CONTENT-BASED RECOMMENDER </h3>"
   ]
  },
  {
   "cell_type": "markdown",
   "metadata": {},
   "source": [
    "<h4>PLOT DESCRIPTION BASED RECOMMENDER</h4>\n",
    "<div>\n",
    "    In this section, we build a system that recommends movies that are similar to a particular movie. To achieve this, we compute the pairwise <b>cosine</b> similarity scores for all movies based on their plot descriptions and recommend movies based on that similarity score threshold.\n",
    "</div>"
   ]
  },
  {
   "cell_type": "markdown",
   "metadata": {},
   "source": [
    "The plot description is available as the overview feature in <b>metadata</b> dataset.\n",
    "<br>\n",
    "Let's inspect the plots of a movies."
   ]
  },
  {
   "cell_type": "code",
   "execution_count": 9,
   "metadata": {},
   "outputs": [
    {
     "data": {
      "text/plain": [
       "0    Led by Woody, Andy's toys live happily in his ...\n",
       "1    When siblings Judy and Peter discover an encha...\n",
       "2    A family wedding reignites the ancient feud be...\n",
       "3    Cheated on, mistreated and stepped on, the wom...\n",
       "4    Just when George Banks has recovered from his ...\n",
       "Name: overview, dtype: object"
      ]
     },
     "execution_count": 9,
     "metadata": {},
     "output_type": "execute_result"
    }
   ],
   "source": [
    "# Print plot overviews of the first 5 movies.\n",
    "metadata['overview'].head(5)"
   ]
  },
  {
   "cell_type": "markdown",
   "metadata": {},
   "source": [
    "<div>\n",
    "    <p>\n",
    "        The problem at hand is a Natural Language Processing problem. Hence we need to extract some kind of features from the above text data before we can compute the similarity and/or dissimilarity between them. To put it simply, it is not possible to compute the similarity between any two overviews in their raw forms. To do this, we need to compute the word vectors of each overview or document, as it will be called from now on\n",
    "    </p>\n",
    "    <p>\n",
    "        As the name suggests, word vectors are vectorized representation of words in a document. The vectors carry a semantic meaning with it. For example, man & king will have vector representations close to each other while man & woman would have representation far from each other\n",
    "    </p>\n",
    "    <p>\n",
    "        We will compute <b>Term Frequency-Inverse Document Frequency (TF-IDF)</b> vectors for each document. This will give you a matrix where each <b>column\n",
    "        </b> represents a word in the overview vocabulary (all the words that appear in at least one document), and each <b>row</b> represents a movie, as before.\n",
    "    </p>\n",
    "    <p>\n",
    "        In its essence, the TF-IDF score is frequency of a word occurring in a document, down-weighted by the\n",
    "        number of documents in which it occurs. This is done to reduce the importance of words that frequently occur in plot overviews and, therefore, their significance in computing the final similarity score.\n",
    "    </p>\n",
    "    <p>\n",
    "        Fortunately, scikit-learn gives you a built-in <b>TfidfVectorizer</b> class that produces the TF-IDF matrix in a couple of lines.\n",
    "    </p>\n",
    "    <ul>\n",
    "        <li>Import the Tfidf module using scikit-learn.</li>\n",
    "        <li>Remove the stop words like 'the','an',etc. Since they do not give any useful information.</li>\n",
    "        <li>Replace not-a-number values with a blank string.</li>\n",
    "        <li>Finally, construct the TF-IDF matrix on the data</li>\n",
    "    </ul>\n",
    "</div>"
   ]
  },
  {
   "cell_type": "code",
   "execution_count": 10,
   "metadata": {},
   "outputs": [
    {
     "data": {
      "text/plain": [
       "(45466, 75827)"
      ]
     },
     "execution_count": 10,
     "metadata": {},
     "output_type": "execute_result"
    }
   ],
   "source": [
    "# Import TfIdVectorizer from scikit-learn\n",
    "from sklearn.feature_extraction.text import TfidfVectorizer\n",
    "\n",
    "# Define a TF-IDF Vectorizer Object. Remove all English stop words such as 'the'\n",
    "tfidf = TfidfVectorizer(stop_words='english')\n",
    "\n",
    "# Replace NaN with an empty string\n",
    "metadata['overview'] = metadata['overview'].fillna('')\n",
    "\n",
    "# Construct the equired TF - IDF matrix by fitting and transforming the data\n",
    "tfidf_matrix = tfidf.fit_transform(metadata['overview'])\n",
    "\n",
    "# Output the shape of tfidf_matrix\n",
    "tfidf_matrix.shape"
   ]
  },
  {
   "cell_type": "code",
   "execution_count": 11,
   "metadata": {},
   "outputs": [
    {
     "data": {
      "text/plain": [
       "array(['avails', 'avaks', 'avalanche', 'avalanches', 'avallone', 'avalon',\n",
       "       'avant', 'avanthika', 'avanti', 'avaracious'], dtype=object)"
      ]
     },
     "execution_count": 11,
     "metadata": {},
     "output_type": "execute_result"
    }
   ],
   "source": [
    "# Array mapping from feature integer indices to feature name.\n",
    "\n",
    "tfidf.get_feature_names_out()[5000:5010]\n",
    "\n",
    "# Print every words - Just for fun\n",
    "# for i in tfidf.get_feature_names_out():\n",
    "#     print(i)\n",
    "\n",
    "\n"
   ]
  },
  {
   "cell_type": "markdown",
   "metadata": {},
   "source": [
    "<b>Explanation: </b>\n",
    "<div>\n",
    "    <ul>\n",
    "        <li>The <b>get_feature_names_out()</b> method of the <b>tfidf</b> object returns an array of feature names in the order they appear in the feature matrix.</li>\n",
    "        <li> In this code snippet, the <b>[5000:5010]</b> slide is used to get the feature names for the indices between 5000 and 5010 (exclusive).</li>\n",
    "    <ul>\n",
    "</div>"
   ]
  },
  {
   "cell_type": "markdown",
   "metadata": {},
   "source": [
    "<div>\n",
    "    <p>\n",
    "        From the above output, we observe that 75,827 different vocabularies or words in the dataset have 45466 movies.\n",
    "    </p>\n",
    "    <p>\n",
    "        With this matrix in hand, we can now compute a similarity score. There are several similarity metrics that we can use for this, such as Manhattan, Euclidean, Pearson, and the <b>Cosine similarity scores</b>.\n",
    "    </p>\n",
    "    <p>\n",
    "        We use Cosine similarity here to calculate a numeric quantity that denotes the similarity between two movies. The reason here is it is independent of magnitude and relatively easy and fast to calculate (especially when used in conjunction with TF-IDF scores, which will be explained later). Mathematically, it is defined as follows:\n",
    "    </p>\n",
    "    <img src=\"https://images.datacamp.com/image/upload/f_auto,q_auto:best/v1590782185/cos_aalkpq.png\" />\n",
    "</div>"
   ]
  },
  {
   "cell_type": "markdown",
   "metadata": {},
   "source": [
    "<div>\n",
    "    <p>\n",
    "        Since you have used the TF-IDF vectorizer, calculating the dot product between each vector will directly give you the cosine similarity score. Therefore, you will use <b>sklearn's linear_kernel()</b> instead of <b>cosine_similarities()</b> since it is faster.\n",
    "    </p>\n",
    "    <p>\n",
    "        This would return a matrix of shape 45466x45466, which means each movie overview cosine similarity score with every other movie <b>overview</b>. Hence, each movie will be a 1x45466 column vector where each column will be a similarity score with each movie.\n",
    "    </p>\n",
    "</div>"
   ]
  },
  {
   "cell_type": "code",
   "execution_count": 12,
   "metadata": {},
   "outputs": [],
   "source": [
    "# Import linear_kernel\n",
    "from sklearn.metrics.pairwise import linear_kernel\n",
    "\n",
    "# Compute the cosine similarity matrix\n",
    "cosine_sim = linear_kernel(tfidf_matrix, tfidf_matrix)"
   ]
  },
  {
   "cell_type": "markdown",
   "metadata": {},
   "source": [
    "<div><b>Explanation:</b><div>\n",
    "<div>\n",
    "    <ul>\n",
    "        <li>\n",
    "            This code imports the <b>linear_kernel</b> function from the <b>sklearn.metrics.pairwise</b> module.\n",
    "        </li>\n",
    "        <li>\n",
    "            The <b>linear_kernel</b> function is used to compute the dot product of two matrices.\n",
    "        </li>\n",
    "        <li>\n",
    "            In the next line, the <b>cosine_sim</b> variable is assigned the result of applying the <b>linear_kernel</b> function to the <b>tfidf_matrix</b> twice.\n",
    "        </li>\n",
    "        <li>\n",
    "            This computes the cosine similarity matrix of the <b>tfidf_matrix</b>\n",
    "        </li>\n",
    "        <li>\n",
    "            The <b>tfidf_matrix</b> is a matrix that represents the text data in a numerical form using the term frequency-inverse document frequency (TF-IDF) method.\n",
    "        </li>\n",
    "        <li>\n",
    "            The cosine similarity matrix is a measure of similarity between each pair of documents in the <b>tfidf_matix</b>\n",
    "        </li>\n",
    "        <li>\n",
    "            Overall, this code computes the cosine similarity matrix of the <b>tfidf_matrix</b> using the <b>linear_kernel</b> function.\n",
    "        </li>\n",
    "    </ul>\n",
    "</div>"
   ]
  },
  {
   "cell_type": "code",
   "execution_count": 13,
   "metadata": {},
   "outputs": [
    {
     "data": {
      "text/plain": [
       "(45466, 45466)"
      ]
     },
     "execution_count": 13,
     "metadata": {},
     "output_type": "execute_result"
    }
   ],
   "source": [
    "cosine_sim.shape"
   ]
  },
  {
   "cell_type": "code",
   "execution_count": 14,
   "metadata": {},
   "outputs": [
    {
     "data": {
      "text/plain": [
       "array([0.01504121, 1.        , 0.04681953, ..., 0.        , 0.02198641,\n",
       "       0.00929411])"
      ]
     },
     "execution_count": 14,
     "metadata": {},
     "output_type": "execute_result"
    }
   ],
   "source": [
    "cosine_sim[1]"
   ]
  },
  {
   "cell_type": "code",
   "execution_count": 15,
   "metadata": {},
   "outputs": [],
   "source": [
    "# Construct a reverse map of indices and movie titles\n",
    "indices = pd.Series(metadata.index, index=metadata['title']).drop_duplicates()"
   ]
  },
  {
   "cell_type": "code",
   "execution_count": 16,
   "metadata": {},
   "outputs": [
    {
     "data": {
      "text/plain": [
       "title\n",
       "Toy Story                      0\n",
       "Jumanji                        1\n",
       "Grumpier Old Men               2\n",
       "Waiting to Exhale              3\n",
       "Father of the Bride Part II    4\n",
       "Heat                           5\n",
       "Sabrina                        6\n",
       "Tom and Huck                   7\n",
       "Sudden Death                   8\n",
       "GoldenEye                      9\n",
       "dtype: int64"
      ]
     },
     "execution_count": 16,
     "metadata": {},
     "output_type": "execute_result"
    }
   ],
   "source": [
    "indices[:10]"
   ]
  },
  {
   "cell_type": "markdown",
   "metadata": {},
   "source": [
    "<div>\n",
    "    <p>\n",
    "        We are now in good shape to define your recommendation function. These are the following next steps:\n",
    "    </p>\n",
    "    <ul>\n",
    "        <li>\n",
    "            Get the index of the movie given its title\n",
    "        </li>\n",
    "        <li>\n",
    "            Get the list of cosine similarity scores for that particular movie with all movies. Convert it into a list of tuples where the first element is its position, and the second is the similarity score.</li>\n",
    "        <li>\n",
    "            Sort the aforementioned list of tuples based on the similarity scores; that is, the second element.\n",
    "        </li>\n",
    "        <li>\n",
    "            Get the top 10 elements of this list. Ignore the first element as it refers to self (the movie most similar to a particular movie is the movie itself).\n",
    "        </li>\n",
    "        <li>\n",
    "            Return the titles corresponding to the indices of the top elements.\n",
    "        </li>\n",
    "    </ul>\n",
    "</div>"
   ]
  },
  {
   "cell_type": "code",
   "execution_count": 17,
   "metadata": {},
   "outputs": [],
   "source": [
    "# Function that takes in movie little as input and outputs most similar movies\n",
    "\n",
    "def get_recommendations (title, cosine_sim=cosine_sim):\n",
    "        # Get the index of the movie that matches the title\n",
    "        idx = indices[title]\n",
    "\n",
    "        # Get the pairwise similarity scores of all movies with that movie\n",
    "        sim_scores = list(enumerate(cosine_sim[idx]))\n",
    "\n",
    "        # Sort the movies based on the similarity scores\n",
    "        sim_scores = sorted(sim_scores, key=lambda x:x[1], reverse=True)\n",
    "\n",
    "        # Get the scores of the 10 most similar movies\n",
    "        sim_scores = sim_scores[1:11]\n",
    "\n",
    "        # Get the movie indices\n",
    "        movie_indices = [i[0] for i in sim_scores]\n",
    "\n",
    "        # Return the top 10 most similar movies\n",
    "        return metadata['title'].iloc[movie_indices]\n"
   ]
  },
  {
   "cell_type": "code",
   "execution_count": 18,
   "metadata": {},
   "outputs": [
    {
     "name": "stdout",
     "output_type": "stream",
     "text": [
      "Gone Baby Gone\n",
      "Side Street Story\n",
      "Full Speed\n",
      "Byelorussian Station\n",
      "Dean\n",
      "We're No Angels\n",
      "Best Boy\n",
      "Camp\n",
      "La luna\n",
      "Merlin's Shop of Mystical Wonders\n"
     ]
    }
   ],
   "source": [
    "for i in get_recommendations('Two Bits'):\n",
    "    print(i)"
   ]
  }
 ],
 "metadata": {
  "kernelspec": {
   "display_name": "Python 3",
   "language": "python",
   "name": "python3"
  },
  "language_info": {
   "codemirror_mode": {
    "name": "ipython",
    "version": 3
   },
   "file_extension": ".py",
   "mimetype": "text/x-python",
   "name": "python",
   "nbconvert_exporter": "python",
   "pygments_lexer": "ipython3",
   "version": "3.10.13"
  }
 },
 "nbformat": 4,
 "nbformat_minor": 2
}
